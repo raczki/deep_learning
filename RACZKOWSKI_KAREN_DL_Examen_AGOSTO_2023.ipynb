{
  "cells": [
    {
      "cell_type": "markdown",
      "metadata": {
        "id": "ftXnmgdtOuZs"
      },
      "source": [
        "# Universidad de Buenos Aires\n",
        "# Deep Learning - Examen\n",
        "# Agosto 2023\n",
        "\n"
      ]
    },
    {
      "cell_type": "markdown",
      "metadata": {
        "id": "aEx1gM2sG4OP"
      },
      "source": [
        "El examen comienza al momento de recibir este correo y la ventana de entrega estará abierta hasta el domingo 27 de Agosto a las 20:00hs. Toda comunicación con otros alumnos respecto del examen y la resolución de los ejercicios, queda estrictamente prohibida. Los exámenes serán comparados desde el punto de vista de la redacción, de los resultados y del código para determinar que el trabajo fue 100% individual y único. El examen es a libro abierto, pudiendo utilizar los contenidos vistos en clase y otra bibliografía. Todas las soluciones deben ser originales y si se toman ideas de fuentes externas deben ser correctamente citas incluyendo el correspondiente link o página de libro.\n",
        "\n",
        "El formato de entrega debe ser un “link a un colab” (compartir a las siguientes direcciones: maxit1992@gmail.com y lelectronfou@gmail.com ) o un “link a un notebook en un github público”.\n",
        "\n",
        "**Consideraciones a tener en cuenta:**\n",
        "- Se entregará 1 solo colab para la totalidad del examen.\n",
        "- Renombrar el archivo de la siguiente manera: **APELLIDO-NOMBRE-DL-Examen AGOSTO 2023.ipynb**\n",
        "- Los códigos deben poder ejecutarse.\n",
        "- Los resultados, cómo el código y las explicaciones deben quedar guardados y visualizables en el correspondiente link.\n",
        "- Prestar atención a las consignas, responder las preguntas cuando corresponda.\n",
        "\n"
      ]
    },
    {
      "cell_type": "markdown",
      "metadata": {
        "id": "nlfSxrehmuYW"
      },
      "source": [
        "## Ejercicio 1\n",
        "\n"
      ]
    },
    {
      "cell_type": "markdown",
      "metadata": {
        "id": "AwCiDRncfsaI"
      },
      "source": [
        "Dada la siguiente función:\n",
        "\n",
        "$$\n",
        "f(x,y) = (1.5 - x + xy)^2 + (2.25-x+xy^2)^2 + (2.625 -x + xy^3)^2\n",
        "$$\n",
        "\n",
        "\n",
        "Encontrar el punto donde la función es mínima y el valor de dicho mínimo:\n",
        "\n",
        "a. Utilizando SGD y cálculo de gradiente con regla de la cadena.\n",
        "\n",
        "b. Utilizando SGD y pytorch."
      ]
    },
    {
      "cell_type": "markdown",
      "metadata": {},
      "source": [
        "a. Para encontrar el punto donde la función $f(x,y)$ es mínima utilizando el método del Descenso del Gradiente (SGD) y el cálculo de gradiente con la regla de la cadena, necesitamos calcular las derivadas parciales de $f(x,y)$ con respecto a $x$ e $y$ y luego actualizar $x$ e $y$ iterativamente utilizando el gradiente y un factor de aprendizaje.\n",
        "\n",
        "La función que queremos minimizar es:\n",
        "$$\n",
        "f(x,y) = (1.5 - x + xy)^2 + (2.25-x+xy^2)^2 + (2.625 -x + xy^3)^2\n",
        "$$\n",
        "\n",
        "Paso 1: Calculamos las derivadas parciales de la función con respecto a $x$ e $y$ utilizando la regla de la cadena:\n",
        "\n",
        "$$\n",
        "\\frac{\\partial f}{\\partial x} = 2(1.5 - x + xy)(-1)+2(2.25-x+xy^2)(-1)+2(2.625 -x + xy^3)(-1) =\n",
        "$$\n",
        "\n",
        "$$ \n",
        "= -2(1.5 - x + xy)-2(2.25-x+xy^2)-2(2.625 -x + xy^3)\n",
        "$$\n",
        "\n",
        "$$\n",
        "\\frac{\\partial f}{\\partial y} = 2(1.5 - x + xy)x+2(2.25-x+xy^2)(2y)+2(2.625 -x + xy^3)(3y^2) =\n",
        "$$\n",
        "\n",
        "$$\n",
        "= 2x(1.5 - x + xy)+4y(2.25-x+xy^2)+6y^2(2.625 -x + xy^3)\n",
        "$$\n",
        "\n",
        "Paso 2: Inicializamos valores para $x$, $y$ y el factor de aprendizaje $\\alpha$. A partir de estos valores, iteramos actualizando $x$ e $y$ en función de las derivadas parciales:\n",
        "\n",
        "$$\n",
        "x_{nuevo} = x_{viejo} - \\alpha \\frac{\\partial f}{\\partial x_{viejo}}\n",
        "$$\n",
        "\n",
        "$$\n",
        "y_{nuevo} = y_{viejo} - \\alpha \\frac{\\partial f}{\\partial y_{viejo}}\n",
        "$$\n",
        "\n",
        "Repetimos estos pasos hasta que los valores de $x$ e $y$ converjan a un mínimo o se alcance un número máximo de iteraciones."
      ]
    },
    {
      "cell_type": "markdown",
      "metadata": {},
      "source": [
        "b. El código a continuación utiliza el tensor x e y de PyTorch para realizar el descenso de gradiente. La función backward() calcula automáticamente los gradientes y el método zero_() se utiliza para restablecer los gradientes en cada iteración."
      ]
    },
    {
      "cell_type": "code",
      "execution_count": 1,
      "metadata": {},
      "outputs": [
        {
          "name": "stdout",
          "output_type": "stream",
          "text": [
            "Resultado utilizando PyTorch:\n",
            "Valor mínimo: 5.6234504882013425e-05\n",
            "Coordenadas (x, y): 2.9815101623535156 0.49534761905670166\n"
          ]
        }
      ],
      "source": [
        "import torch\n",
        "\n",
        "# Definir la función\n",
        "def f(x, y):\n",
        "    return (1.5 - x + x*y)**2 + (2.25 - x + x*y**2)**2 + (2.625 - x + x*y**3)**2\n",
        "\n",
        "# Inicializar valores de x e y\n",
        "x = torch.tensor([0.0], requires_grad=True)\n",
        "y = torch.tensor([0.0], requires_grad=True)\n",
        "\n",
        "# Tasa de aprendizaje\n",
        "alpha = 0.01\n",
        "\n",
        "# Número de iteraciones\n",
        "num_iterations = 1000\n",
        "\n",
        "# Descenso de gradiente\n",
        "for _ in range(num_iterations):\n",
        "    loss = f(x, y)\n",
        "    loss.backward()  # Calcular los gradientes\n",
        "    \n",
        "    # Actualizar los valores de x e y\n",
        "    with torch.no_grad():\n",
        "        x -= alpha * x.grad\n",
        "        y -= alpha * y.grad\n",
        "        x.grad.zero_()\n",
        "        y.grad.zero_()\n",
        "\n",
        "# Imprimir el resultado\n",
        "print(\"Resultado utilizando PyTorch:\")\n",
        "print(\"Valor mínimo:\", loss.item())\n",
        "print(\"Coordenadas (x, y):\", x.item(), y.item())"
      ]
    },
    {
      "cell_type": "markdown",
      "metadata": {
        "id": "4CMta3Dj_Mjq"
      },
      "source": [
        "## Ejercicio 2"
      ]
    },
    {
      "cell_type": "markdown",
      "metadata": {
        "id": "C_hXG5W6KMBx"
      },
      "source": [
        "Si tiene una imagen a procesar de 1024x720x3 y desea aplicar en cascada, 2 capas de convolución, seguido por una capa de activación y una de pooling,  con las siguientes características:\n",
        "\n",
        "*Conv1:*\n",
        "* tamaño kernel = 7x7\n",
        "* padding = 2\n",
        "* stride = 1\n",
        "* número de kernel = 16\n",
        "\n",
        "*Conv2:*\n",
        "* tamaño kernel = 5x5\n",
        "* padding = 0\n",
        "* stride = 1\n",
        "* número de kernel = 32\n",
        "\n",
        "*activación*\n",
        "* Tanh()\n",
        "\n",
        "*pooling*\n",
        "* tamaño pooling = 5x5\n",
        "* padding pooling = 0\n",
        "* stride pooling = 5\n",
        "\n",
        "a) ¿Cual es el tamaño final de la salida y cuantos canales tiene?\n",
        "\n",
        "b) Si tiene que conectar esa salida a una `fully_connected` para clasificar 3 clases ¿que tamaño debe tener?"
      ]
    },
    {
      "cell_type": "markdown",
      "metadata": {},
      "source": [
        "a) Para calcular el tamaño y el número de canales de la salida después de aplicar las capas de convolución, activación y pooling en cascada, podemos seguir estos pasos: \n",
        "\n",
        "Capa Conv1: El tamaño de salida después de esta capa se calcula utilizando la fórmula:\n",
        "\n",
        "$$\n",
        "Tamaño\\ de\\ salida = \\frac{Tamaño\\ entrada + 2 \\times Padding - Tamaño\\ kernel}{Stride} +1\n",
        "$$\n",
        "\n",
        "Dado el tamaño de entrada $1024 \\times 720 \\times 3$ (ancho x alto x canales) y los datos proporcionados en el enunciado, se calcula el tamaño salida después de Conv1:\n",
        "\n",
        "$$\n",
        "Ancho = \\frac{1024 + 2 * 2 - 7}{1} +1 =1022\n",
        "$$\n",
        "\n",
        "$$\n",
        "Alto = \\frac{720 + 2 * 2 - 7}{1} +1 = 718\n",
        "$$\n",
        "\n",
        "$$\n",
        "Tamaño\\ de\\ salida = 1022 \\times 718 \\times 16\n",
        "$$\n",
        "\n",
        "Capa Conv2: Dado el tamaño de entrada (salida de Conv1) $1022 \\times 718 \\times 16$ y los datos proporcionados en el enunciado, se calcula el tamaño salida después de Conv2:\n",
        "\n",
        "$$\n",
        "Ancho = \\frac{1022 + 2 * 0 - 5}{1} +1 = 1018\n",
        "$$\n",
        "\n",
        "$$\n",
        "Alto = \\frac{718 + 2 * 0 - 5}{1} +1 = 714\n",
        "$$\n",
        "\n",
        "$$\n",
        "Tamaño\\ de\\ salida = 1018 \\times 714 \\times 32\n",
        "$$​\n",
        "\n",
        "Capa de activación: La función de activación Tanh() no afecta las dimensiones ni el número de canales, ya que la función de activación se aplica elemento por elemento en cada canal.\n",
        "\n",
        "Capa de pooling: Dado el tamaño de entrada (salida de Conv2) $1018 \\times 714 \\times 32$ y los datos proporcionados en el enunciado, se calcula el tamaño salida después del pooling:\n",
        "\n",
        "$$\n",
        "Ancho = \\frac{1018 + 2 * 0 - 5}{5} +1 = 203\n",
        "$$\n",
        "\n",
        "$$\n",
        "Alto = \\frac{714 + 2 * 0 - 5}{5} +1 = 142\n",
        "$$\n",
        "\n",
        "$$\n",
        "Tamaño\\ de\\ salida = 203 \\times 142 \\times 32\n",
        "$$\n",
        "\n",
        "Después de aplicar las 2 capas de convolución, la activación (Tanh) y el pooling, el tamaño final de la salida es $203 \\times 142 \\times 32$.\n",
        "\n",
        "El código presentado a continuación confirma estos resultados."
      ]
    },
    {
      "cell_type": "code",
      "execution_count": 11,
      "metadata": {},
      "outputs": [
        {
          "name": "stdout",
          "output_type": "stream",
          "text": [
            "Tamaño de la salida del modelo: torch.Size([1, 32, 203, 142])\n"
          ]
        }
      ],
      "source": [
        "import torch\n",
        "import torch.nn as nn\n",
        "import torch.nn.functional as F\n",
        "\n",
        "class CustomCNN(nn.Module):\n",
        "    def __init__(self):\n",
        "        super(CustomCNN, self).__init__()\n",
        "        \n",
        "        # Capas de convolución\n",
        "        self.conv1 = nn.Conv2d(in_channels=3, out_channels=16, kernel_size=7, padding=2, stride=1)\n",
        "        self.conv2 = nn.Conv2d(in_channels=16, out_channels=32, kernel_size=5, padding=0, stride=1)\n",
        "        \n",
        "        # Capa de activación\n",
        "        self.activation = nn.Tanh()\n",
        "        \n",
        "        # Capa de pooling\n",
        "        self.pooling = nn.MaxPool2d(kernel_size=5, padding=0, stride=5)\n",
        "    \n",
        "    def forward(self, x):\n",
        "        x = self.conv1(x)\n",
        "        x = self.activation(x)\n",
        "        x = self.conv2(x)\n",
        "        x = self.activation(x)\n",
        "        x = self.pooling(x)\n",
        "        return x\n",
        "\n",
        "# Crear una instancia de la red\n",
        "model = CustomCNN()\n",
        "\n",
        "# Crear una imagen de ejemplo (ten en cuenta que aquí el tamaño es 3x1024x720 en lugar de 1024x720x3)\n",
        "input_image = torch.rand(1, 3, 1024, 720)\n",
        "\n",
        "# Pasar la imagen a través de la red\n",
        "output = model(input_image)\n",
        "\n",
        "# Imprimir la forma del tensor de salida\n",
        "output_shape = output.shape\n",
        "print(\"Tamaño de la salida del modelo:\", output_shape)"
      ]
    },
    {
      "cell_type": "markdown",
      "metadata": {},
      "source": [
        "b) Después de todas las operaciones anteriores, la salida tiene un tamaño de $203 \\times 142 \\times 32$. Para conectar esta salida a una capa totalmente conectada (fully connected), primero debemos aplanarla en un vector unidimensional. El tamaño del vector será el producto del tamaño de las dimensiones espaciales y el número de canales:\n",
        "$$\n",
        "Tamaño\\ del\\ vector = 203 \\times 142 \\times 32 = 922432\n",
        "$$\n",
        "Por lo tanto, el tamaño de entrada de la fully connected debe ser 922432 para conectarlo correctamente a la fully connected que realizará la clasificación en 3 clases. Esto garantiza que cada elemento en la salida se conecte con una neurona en la capa fully connected, lo que permite que la red neuronal aprenda patrones y características para la clasificación.\n",
        "\n",
        "El código presentado a continuación confirma los resultados."
      ]
    },
    {
      "cell_type": "code",
      "execution_count": 13,
      "metadata": {},
      "outputs": [
        {
          "name": "stdout",
          "output_type": "stream",
          "text": [
            "Tamaño necesario para la capa fully connected: 922432\n",
            "Forma de la salida de la clasificación: torch.Size([1, 3])\n"
          ]
        }
      ],
      "source": [
        "# Definir la clase FullyConnectedClassifier \n",
        "class FullyConnectedClassifier(nn.Module):\n",
        "    def __init__(self, input_size, num_classes):\n",
        "        super(FullyConnectedClassifier, self).__init__()\n",
        "        \n",
        "        self.fc = nn.Linear(input_size, num_classes)\n",
        "    \n",
        "    def forward(self, x):\n",
        "        x = self.fc(x)\n",
        "        return x\n",
        "\n",
        "# Tamaño necesario para la capa fully connected\n",
        "input_fc_size = output_shape[1] * output_shape[2] * output_shape[3]\n",
        "\n",
        "# Crear una instancia del modelo FullyConnectedClassifier\n",
        "classifier_model = FullyConnectedClassifier(input_fc_size, num_classes=3)\n",
        "\n",
        "# Pasar la salida del modelo CustomCNN a través del modelo FullyConnectedClassifier\n",
        "classification_output = classifier_model(output.view(-1, input_fc_size))\n",
        "\n",
        "# Imprimir la forma del tensor de salida de la clasificación\n",
        "print(\"Tamaño necesario para la capa fully connected:\", input_fc_size)\n",
        "print(\"Forma de la salida de la clasificación:\", classification_output.shape)"
      ]
    },
    {
      "cell_type": "markdown",
      "metadata": {
        "id": "fvsqmJwx_Rb8"
      },
      "source": [
        "## Ejercicio 3\n",
        "\n"
      ]
    },
    {
      "cell_type": "markdown",
      "metadata": {
        "id": "ABeIRvAkKLy7"
      },
      "source": [
        "\n",
        "Para la siguiente red neuronal recurrente, se pide expresar las ecuaciones \"*unfolded*\" de la salida de la misma y de sus estados ocultos, si el vector de entrada son 3 muestras secuenciadas de la variable $x(t)$.\n",
        "\n",
        "![b](https://drive.google.com/uc?export=view&id=1Fz46GTK7Oy_w5OEgwLCLfHFMr7b6-AnL)\n",
        "\n",
        "\n",
        "\n",
        "\n",
        "Ecuaciones de la RNN:\n",
        "\n",
        "$$ \\hat{y}(t) = w_{h1y} * h1(t) + w_{h2y} * h2(t) + by$$\n",
        "\n",
        "$$ h1(t) = w_{xh1} * x(t) + w_{h1h1} * h1(t-1) + w_{h2h1} * h2(t-1)+ bh1$$\n",
        "$$ h2(t) = w_{xh2} * x(t) + w_{h2h2} * h2(t-1) + w_{h1h2} * h1(t-1)+ bh2 $$"
      ]
    },
    {
      "cell_type": "markdown",
      "metadata": {},
      "source": [
        "Para expresar las ecuaciones \"unfolded\" de la salida y los estados ocultos de la red neuronal recurrente (RNN) cuando se le proporcionan 3 muestras secuenciadas de la variable $x(t)$, podemos seguir el flujo de la red en cada paso de tiempo. Asumiendo que las muestras secuenciales son $x(t_1)$, $x(t_2)$ y $x(t_3)$, las ecuaciones \"unfolded\" para la salida y los estados ocultos de la RNN serían las siguientes:\n",
        "\n",
        "Paso 1: $t=t_1$ \n",
        "\n",
        "Salida:\n",
        "$$ \n",
        "\\hat{y}(t_1) = w_{h1y} * h1(t_1) + w_{h2y} * h2(t_1) + by\n",
        "$$\n",
        "\n",
        "Estados ocultos:\n",
        "\n",
        "$$ \n",
        "h1(t_1) = w_{xh1} * x(t_1) + w_{h1h1} * h1(t_0) + w_{h2h1} * h2(t_0)+ bh1\n",
        "$$\n",
        "$$ \n",
        "h2(t_1) = w_{xh2} * x(t_1) + w_{h2h2} * h2(t_0) + w_{h1h2} * h1(t_0)+ bh2\n",
        "$$\n",
        "\n",
        "Paso 2: $t=t_2$ \n",
        "\n",
        "Salida:\n",
        "$$ \n",
        "\\hat{y}(t_2) = w_{h1y} * h1(t_2) + w_{h2y} * h2(t_2) + by\n",
        "$$\n",
        "\n",
        "Estados ocultos:\n",
        "$$ \n",
        "h1(t_2) = w_{xh1} * x(t_2) + w_{h1h1} * h1(t_1) + w_{h2h1} * h2(t_1)+ bh1\n",
        "$$\n",
        "$$ \n",
        "h2(t_2) = w_{xh2} * x(t_2) + w_{h2h2} * h2(t_1) + w_{h1h2} * h1(t_1)+ bh2\n",
        "$$\n",
        "\n",
        "Paso 3: $t=t_3$ \n",
        "\n",
        "Salida:\n",
        "$$ \n",
        "\\hat{y}(t_3) = w_{h1y} * h1(t_3) + w_{h2y} * h2(t_3) + by\n",
        "$$\n",
        "\n",
        "Estados ocultos:\n",
        "$$ \n",
        "h1(t_3) = w_{xh1} * x(t_3) + w_{h1h1} * h1(t_2) + w_{h2h1} * h2(t_2)+ bh1\n",
        "$$\n",
        "$$ \n",
        "h2(t_3) = w_{xh2} * x(t_3) + w_{h2h2} * h2(t_2) + w_{h1h2} * h1(t_2)+ bh2\n",
        "$$\n",
        "\n",
        "En cada paso de tiempo, las ecuaciones indican cómo se calcula la salida $\\hat{y}$ y los estados ocultos $h1$ y $h2$ basados en las muestras secuenciales $x(t)$ y los estados ocultos anteriores $h1$ y $h2$. El subíndice en $h1(t)$ y $h2(t)$ representa el paso de tiempo $t$ y $h1(t_0)$ y $h2(t_0)$ representan los estados ocultos iniciales en el paso de tiempo $t_0$."
      ]
    },
    {
      "cell_type": "markdown",
      "metadata": {
        "id": "WL2PjUnT_Uvk"
      },
      "source": [
        "## Ejercicio 4"
      ]
    },
    {
      "cell_type": "markdown",
      "metadata": {
        "id": "73yqE_Sslwif"
      },
      "source": [
        "Descargar el dataset del siguiente link: https://drive.google.com/file/d/1X8_G5BpQMi-Nnbtms2RL8lcWSxzD8ixd/view?usp=sharing. El dataset son compras de productos que diferentes clientes realizaron durante un black sales. El dataset contiene información sobre las transacciones y el objetivo es poder utilizar el dataset para crear diferentes modelos que puedan predecir cuánto un cliente está dispuesto a gastar en un producto en el futuro. Particularmente, vamos a tratar este problema como una clasificación binaria donde queremos averiguar si el cliente va a gastar mucha plata (más de 9000) o poca plata (menos de 9000)."
      ]
    },
    {
      "cell_type": "markdown",
      "metadata": {},
      "source": [
        "a) Entrenar un modelo de deep learning que no utilice embeddings y que no emplee el `user_id` ni el `product_id`."
      ]
    },
    {
      "cell_type": "code",
      "execution_count": 2,
      "metadata": {},
      "outputs": [],
      "source": [
        "# Librerias\n",
        "import pandas as pd\n",
        "import numpy as np\n",
        "import tensorflow as tf\n",
        "import matplotlib.pyplot as plt\n",
        "from sklearn.model_selection import train_test_split\n",
        "from sklearn.preprocessing import StandardScaler, LabelEncoder\n",
        "from sklearn.metrics import classification_report, confusion_matrix"
      ]
    },
    {
      "cell_type": "code",
      "execution_count": 3,
      "metadata": {},
      "outputs": [
        {
          "name": "stdout",
          "output_type": "stream",
          "text": [
            "Variables categóricas en el dataset:\n",
            "Product_ID\n",
            "Gender\n",
            "Age\n",
            "City_Category\n",
            "Stay_In_Current_City_Years\n",
            "Variables numéricas en el dataset:\n",
            "User_ID\n",
            "Occupation\n",
            "Marital_Status\n",
            "Product_Category_1\n",
            "Product_Category_2\n",
            "Product_Category_3\n",
            "Purchase\n"
          ]
        }
      ],
      "source": [
        "# Cargar y preparar los datos \n",
        "df = pd.read_csv(\"dataset_black_sales.csv\")\n",
        "\n",
        "# Obtener los nombres de las columnas categóricas\n",
        "cat_cols = df.select_dtypes(include='object').columns\n",
        "print(\"Variables categóricas en el dataset:\")\n",
        "for col in cat_cols:\n",
        "    print(col)\n",
        "\n",
        "# Obtener los nombres de las columnas numéricas\n",
        "num_cols = df.select_dtypes(include='number').columns\n",
        "print(\"Variables numéricas en el dataset:\")\n",
        "for col in num_cols:\n",
        "    print(col)\n"
      ]
    },
    {
      "cell_type": "code",
      "execution_count": 35,
      "metadata": {},
      "outputs": [
        {
          "name": "stdout",
          "output_type": "stream",
          "text": [
            "Epoch 1/10\n",
            "10314/10314 [==============================] - 16s 2ms/step - loss: nan - accuracy: 0.6012 - val_loss: nan - val_accuracy: 0.6031\n",
            "Epoch 2/10\n",
            "10314/10314 [==============================] - 16s 2ms/step - loss: nan - accuracy: 0.6012 - val_loss: nan - val_accuracy: 0.6031\n",
            "Epoch 3/10\n",
            "10314/10314 [==============================] - 17s 2ms/step - loss: nan - accuracy: 0.6012 - val_loss: nan - val_accuracy: 0.6031\n",
            "Epoch 4/10\n",
            "10314/10314 [==============================] - 16s 2ms/step - loss: nan - accuracy: 0.6012 - val_loss: nan - val_accuracy: 0.6031\n",
            "Epoch 5/10\n",
            "10314/10314 [==============================] - 16s 2ms/step - loss: nan - accuracy: 0.6012 - val_loss: nan - val_accuracy: 0.6031\n",
            "Epoch 6/10\n",
            "10314/10314 [==============================] - 19s 2ms/step - loss: nan - accuracy: 0.6012 - val_loss: nan - val_accuracy: 0.6031\n",
            "Epoch 7/10\n",
            "10314/10314 [==============================] - 15s 1ms/step - loss: nan - accuracy: 0.6012 - val_loss: nan - val_accuracy: 0.6031\n",
            "Epoch 8/10\n",
            "10314/10314 [==============================] - 15s 1ms/step - loss: nan - accuracy: 0.6012 - val_loss: nan - val_accuracy: 0.6031\n",
            "Epoch 9/10\n",
            "10314/10314 [==============================] - 14s 1ms/step - loss: nan - accuracy: 0.6012 - val_loss: nan - val_accuracy: 0.6031\n",
            "Epoch 10/10\n",
            "10314/10314 [==============================] - 13s 1ms/step - loss: nan - accuracy: 0.6012 - val_loss: nan - val_accuracy: 0.6031\n",
            "3438/3438 [==============================] - 3s 816us/step - loss: nan - accuracy: 0.6009\n",
            "Test loss: nan, Test accuracy: 0.6009\n"
          ]
        }
      ],
      "source": [
        "# Cargar los datos \n",
        "df = pd.read_csv(\"dataset_black_sales.csv\")\n",
        "\n",
        "# Dividir los datos en características (X) y etiquetas (y)\n",
        "X = df.drop(columns=['Purchase','User_ID','Product_ID'])  # Características\n",
        "y = (df['Purchase'] > 9000).astype(int)  # Etiquetas (1 si gasto > 9000, 0 en caso contrario)\n",
        "\n",
        "# Convert categorical variables to dummy variables\n",
        "X = pd.get_dummies(X, columns=['Gender', 'Age', 'City_Category', 'Stay_In_Current_City_Years'])\n",
        "\n",
        "# Normalizar características numéricas\n",
        "#num_cols = ['Occupation', 'Product_Category_1', 'Product_Category_2', 'Product_Category_3']\n",
        "#scaler = StandardScaler()\n",
        "#X[num_cols] = scaler.fit_transform(X[num_cols])\n",
        "\n",
        "# Dividir el conjunto de datos en entrenamiento, validación y prueba\n",
        "X_train, X_temp, y_train, y_temp = train_test_split(X, y, test_size=0.4, random_state=42)\n",
        "X_val, X_test, y_val, y_test = train_test_split(X_temp, y_temp, test_size=0.5, random_state=42)\n",
        "\n",
        "# Definir el modelo\n",
        "model_a = tf.keras.Sequential([\n",
        "    tf.keras.layers.Input(shape=(X_train.shape[1],)),  # Capa de entrada\n",
        "    tf.keras.layers.Dense(64, activation='relu'),\n",
        "    tf.keras.layers.Dense(32, activation='relu'),\n",
        "    tf.keras.layers.Dense(1, activation='sigmoid')  # Capa de salida (clasificación binaria)\n",
        "])\n",
        "\n",
        "# Compilar el modelo\n",
        "optimizer = tf.keras.optimizers.Adam(learning_rate=0.001)\n",
        "model_a.compile(optimizer=optimizer, loss='binary_crossentropy', metrics=['accuracy'])\n",
        "\n",
        "y_train = np.array(y_train, dtype=np.float32)\n",
        "y_val = np.array(y_val, dtype=np.float32)\n",
        "y_test = np.array(y_test, dtype=np.float32)\n",
        "X_train = np.array(X_train, dtype=np.float32)\n",
        "X_val = np.array(X_val, dtype=np.float32)\n",
        "X_test = np.array(X_test, dtype=np.float32)\n",
        "\n",
        "# Entrenar el modelo y guardar el historial\n",
        "history_a = model_a.fit(X_train, y_train, epochs=10, batch_size=32, validation_data=(X_val, y_val))\n",
        "\n",
        "# Evaluar el modelo en el conjunto de prueba\n",
        "loss, accuracy = model_a.evaluate(X_test, y_test)\n",
        "print(f\"Test loss: {loss:.4f}, Test accuracy: {accuracy:.4f}\")"
      ]
    },
    {
      "cell_type": "markdown",
      "metadata": {},
      "source": [
        "b)\tEntrenar un modelo de deep learning que utilice embeddings tanto para los productos como los usuarios. Realizar el mapeo de identificador de producto y usuarios a indices antes de separar el dataset en training, validation y testing."
      ]
    },
    {
      "cell_type": "code",
      "execution_count": 31,
      "metadata": {},
      "outputs": [
        {
          "name": "stdout",
          "output_type": "stream",
          "text": [
            "Epoch 1/10\n",
            "10314/10314 [==============================] - 27s 3ms/step - loss: 0.2891 - accuracy: 0.8683 - val_loss: 0.2670 - val_accuracy: 0.8785\n",
            "Epoch 2/10\n",
            "10314/10314 [==============================] - 26s 2ms/step - loss: 0.2529 - accuracy: 0.8854 - val_loss: 0.2643 - val_accuracy: 0.8807\n",
            "Epoch 3/10\n",
            "10314/10314 [==============================] - 27s 3ms/step - loss: 0.2439 - accuracy: 0.8889 - val_loss: 0.2621 - val_accuracy: 0.8811\n",
            "Epoch 4/10\n",
            "10314/10314 [==============================] - 31s 3ms/step - loss: 0.2373 - accuracy: 0.8921 - val_loss: 0.2631 - val_accuracy: 0.8810\n",
            "Epoch 5/10\n",
            "10314/10314 [==============================] - 30s 3ms/step - loss: 0.2312 - accuracy: 0.8953 - val_loss: 0.2662 - val_accuracy: 0.8807\n",
            "Epoch 6/10\n",
            "10314/10314 [==============================] - 29s 3ms/step - loss: 0.2249 - accuracy: 0.8984 - val_loss: 0.2676 - val_accuracy: 0.8795\n",
            "Epoch 7/10\n",
            "10314/10314 [==============================] - 29s 3ms/step - loss: 0.2184 - accuracy: 0.9021 - val_loss: 0.2700 - val_accuracy: 0.8770\n",
            "Epoch 8/10\n",
            "10314/10314 [==============================] - 25s 2ms/step - loss: 0.2123 - accuracy: 0.9057 - val_loss: 0.2780 - val_accuracy: 0.8775\n",
            "Epoch 9/10\n",
            "10314/10314 [==============================] - 22s 2ms/step - loss: 0.2063 - accuracy: 0.9087 - val_loss: 0.2838 - val_accuracy: 0.8776\n",
            "Epoch 10/10\n",
            "10314/10314 [==============================] - 23s 2ms/step - loss: 0.2001 - accuracy: 0.9118 - val_loss: 0.2864 - val_accuracy: 0.8733\n"
          ]
        },
        {
          "ename": "ValueError",
          "evalue": "Failed to convert a NumPy array to a Tensor (Unsupported object type int).",
          "output_type": "error",
          "traceback": [
            "\u001b[1;31m---------------------------------------------------------------------------\u001b[0m",
            "\u001b[1;31mValueError\u001b[0m                                Traceback (most recent call last)",
            "Cell \u001b[1;32mIn[31], line 46\u001b[0m\n\u001b[0;32m     41\u001b[0m history_b \u001b[39m=\u001b[39m model_b\u001b[39m.\u001b[39mfit([user_indices[X_train\u001b[39m.\u001b[39mindex], product_indices[X_train\u001b[39m.\u001b[39mindex]], y_train,\n\u001b[0;32m     42\u001b[0m                         epochs\u001b[39m=\u001b[39m\u001b[39m10\u001b[39m, batch_size\u001b[39m=\u001b[39m\u001b[39m32\u001b[39m,\n\u001b[0;32m     43\u001b[0m                         validation_data\u001b[39m=\u001b[39m([user_indices[X_val\u001b[39m.\u001b[39mindex], product_indices[X_val\u001b[39m.\u001b[39mindex]], y_val))\n\u001b[0;32m     45\u001b[0m \u001b[39m# Evaluar el modelo en el conjunto de prueba\u001b[39;00m\n\u001b[1;32m---> 46\u001b[0m loss, accuracy \u001b[39m=\u001b[39m model_b\u001b[39m.\u001b[39;49mevaluate(X_test, y_test)\n\u001b[0;32m     47\u001b[0m \u001b[39mprint\u001b[39m(\u001b[39mf\u001b[39m\u001b[39m\"\u001b[39m\u001b[39mTest loss: \u001b[39m\u001b[39m{\u001b[39;00mloss\u001b[39m:\u001b[39;00m\u001b[39m.4f\u001b[39m\u001b[39m}\u001b[39;00m\u001b[39m, Test accuracy: \u001b[39m\u001b[39m{\u001b[39;00maccuracy\u001b[39m:\u001b[39;00m\u001b[39m.4f\u001b[39m\u001b[39m}\u001b[39;00m\u001b[39m\"\u001b[39m)\n",
            "File \u001b[1;32mc:\\Users\\karen\\AppData\\Local\\Programs\\Python\\Python311\\Lib\\site-packages\\keras\\src\\utils\\traceback_utils.py:70\u001b[0m, in \u001b[0;36mfilter_traceback.<locals>.error_handler\u001b[1;34m(*args, **kwargs)\u001b[0m\n\u001b[0;32m     67\u001b[0m     filtered_tb \u001b[39m=\u001b[39m _process_traceback_frames(e\u001b[39m.\u001b[39m__traceback__)\n\u001b[0;32m     68\u001b[0m     \u001b[39m# To get the full stack trace, call:\u001b[39;00m\n\u001b[0;32m     69\u001b[0m     \u001b[39m# `tf.debugging.disable_traceback_filtering()`\u001b[39;00m\n\u001b[1;32m---> 70\u001b[0m     \u001b[39mraise\u001b[39;00m e\u001b[39m.\u001b[39mwith_traceback(filtered_tb) \u001b[39mfrom\u001b[39;00m \u001b[39mNone\u001b[39;00m\n\u001b[0;32m     71\u001b[0m \u001b[39mfinally\u001b[39;00m:\n\u001b[0;32m     72\u001b[0m     \u001b[39mdel\u001b[39;00m filtered_tb\n",
            "File \u001b[1;32mc:\\Users\\karen\\AppData\\Local\\Programs\\Python\\Python311\\Lib\\site-packages\\tensorflow\\python\\framework\\constant_op.py:98\u001b[0m, in \u001b[0;36mconvert_to_eager_tensor\u001b[1;34m(value, ctx, dtype)\u001b[0m\n\u001b[0;32m     96\u001b[0m     dtype \u001b[39m=\u001b[39m dtypes\u001b[39m.\u001b[39mas_dtype(dtype)\u001b[39m.\u001b[39mas_datatype_enum\n\u001b[0;32m     97\u001b[0m ctx\u001b[39m.\u001b[39mensure_initialized()\n\u001b[1;32m---> 98\u001b[0m \u001b[39mreturn\u001b[39;00m ops\u001b[39m.\u001b[39;49mEagerTensor(value, ctx\u001b[39m.\u001b[39;49mdevice_name, dtype)\n",
            "\u001b[1;31mValueError\u001b[0m: Failed to convert a NumPy array to a Tensor (Unsupported object type int)."
          ]
        }
      ],
      "source": [
        "# Dividir los datos en características (X) y etiquetas (y)\n",
        "X = df.drop(columns=['Purchase'])  # Características\n",
        "y = (df['Purchase'] > 9000).astype(int)  # Etiquetas (1 si gasto > 9000, 0 en caso contrario)\n",
        "\n",
        "# Convert categorical variables to dummy variables\n",
        "X = pd.get_dummies(X, columns=['Gender', 'Age', 'City_Category', 'Stay_In_Current_City_Years'])\n",
        "\n",
        "# Realizar el mapeo de user_ids y product_ids a índices\n",
        "user_encoder = LabelEncoder()\n",
        "product_encoder = LabelEncoder()\n",
        "user_indices = user_encoder.fit_transform(df['User_ID'])\n",
        "product_indices = product_encoder.fit_transform(df['Product_ID'])\n",
        "\n",
        "# Crear un diccionario de embeddings para usuarios y productos\n",
        "num_users = len(np.unique(user_indices))\n",
        "num_products = len(np.unique(product_indices))\n",
        "\n",
        "# Dividir el conjunto de datos en entrenamiento, validación y prueba\n",
        "X_train, X_temp, y_train, y_temp = train_test_split(X, y, test_size=0.4, random_state=42)\n",
        "X_val, X_test, y_val, y_test = train_test_split(X_temp, y_temp, test_size=0.5, random_state=42)\n",
        "\n",
        "# Dimensión del embedding\n",
        "embedding_dim = 16  \n",
        "\n",
        "# Definir el modelo utilizando embeddings para usuarios y productos\n",
        "user_input = tf.keras.layers.Input(shape=(1,))\n",
        "product_input = tf.keras.layers.Input(shape=(1,))\n",
        "user_embed = tf.keras.layers.Embedding(input_dim=len(user_encoder.classes_), output_dim=embedding_dim)(user_input)\n",
        "product_embed = tf.keras.layers.Embedding(input_dim=len(product_encoder.classes_), output_dim=embedding_dim)(product_input)\n",
        "combined_embed = tf.keras.layers.Concatenate()([user_embed, product_embed])\n",
        "flatten_embed = tf.keras.layers.Flatten()(combined_embed)\n",
        "dense_layer = tf.keras.layers.Dense(64, activation='relu')(flatten_embed)\n",
        "output_layer = tf.keras.layers.Dense(1, activation='sigmoid')(dense_layer)\n",
        "\n",
        "model_b = tf.keras.Model(inputs=[user_input, product_input], outputs=output_layer)\n",
        "\n",
        "# Compilar el modelo\n",
        "model_b.compile(optimizer='adam', loss='binary_crossentropy', metrics=['accuracy'])\n",
        "\n",
        "# Entrenar el modelo y guardar el historial\n",
        "history_b = model_b.fit([user_indices[X_train.index], product_indices[X_train.index]], y_train,\n",
        "                        epochs=10, batch_size=32,\n",
        "                        validation_data=([user_indices[X_val.index], product_indices[X_val.index]], y_val))\n",
        "\n",
        "# Evaluar el modelo en el conjunto de prueba\n",
        "loss, accuracy = model_b.evaluate(X_test, y_test)\n",
        "print(f\"Test loss: {loss:.4f}, Test accuracy: {accuracy:.4f}\")"
      ]
    },
    {
      "cell_type": "markdown",
      "metadata": {},
      "source": [
        "c)\tGrafique las curvas de la loss function en función de las epochs de cada modelo y comente lo necesario."
      ]
    },
    {
      "cell_type": "code",
      "execution_count": 33,
      "metadata": {},
      "outputs": [
        {
          "data": {
            "image/png": "[encoded data removed]",
            "text/plain": [
              "<Figure size 1200x600 with 2 Axes>"
            ]
          },
          "metadata": {},
          "output_type": "display_data"
        }
      ],
      "source": [
        "plt.figure(figsize=(12, 6)) \n",
        "\n",
        "# Graficar las curvas de loss para el modelo sin embeddings\n",
        "plt.subplot(1, 2, 1)\n",
        "plt.plot(history_a.history['loss'], label='Train Loss')\n",
        "plt.plot(history_a.history['val_loss'], label='Validation Loss')\n",
        "plt.xlabel('Epochs')\n",
        "plt.ylabel('Loss')\n",
        "plt.title('Modelo sin Embeddings - Curvas de Loss')\n",
        "plt.legend()\n",
        "\n",
        "# Graficar las curvas de loss para el modelo con embeddings\n",
        "plt.subplot(1, 2, 2)\n",
        "plt.plot(history_b.history['loss'], label='Train Loss')\n",
        "plt.plot(history_b.history['val_loss'], label='Validation Loss')\n",
        "plt.xlabel('Epochs')\n",
        "plt.ylabel('Loss')\n",
        "plt.title('Modelo con Embeddings - Curvas de Loss')\n",
        "plt.legend()\n",
        "\n",
        "# Ajustar el diseño para evitar superposiciones\n",
        "plt.tight_layout()\n",
        "plt.show()"
      ]
    },
    {
      "cell_type": "markdown",
      "metadata": {},
      "source": [
        "d) Compare el score de cada modelo."
      ]
    },
    {
      "cell_type": "code",
      "execution_count": 34,
      "metadata": {},
      "outputs": [
        {
          "ename": "ValueError",
          "evalue": "Failed to convert a NumPy array to a Tensor (Unsupported object type int).",
          "output_type": "error",
          "traceback": [
            "\u001b[1;31m---------------------------------------------------------------------------\u001b[0m",
            "\u001b[1;31mValueError\u001b[0m                                Traceback (most recent call last)",
            "Cell \u001b[1;32mIn[34], line 2\u001b[0m\n\u001b[0;32m      1\u001b[0m \u001b[39m# Calcular las predicciones de ambos modelos en el conjunto de prueba\u001b[39;00m\n\u001b[1;32m----> 2\u001b[0m predictions_a \u001b[39m=\u001b[39m model_a\u001b[39m.\u001b[39;49mpredict(X_test)\n\u001b[0;32m      3\u001b[0m predictions_b \u001b[39m=\u001b[39m model_b\u001b[39m.\u001b[39mpredict([test_user_indices, test_product_indices])\n\u001b[0;32m      5\u001b[0m \u001b[39m# Convertir las predicciones en etiquetas binarias (0 o 1)\u001b[39;00m\n",
            "File \u001b[1;32mc:\\Users\\karen\\AppData\\Local\\Programs\\Python\\Python311\\Lib\\site-packages\\keras\\src\\utils\\traceback_utils.py:70\u001b[0m, in \u001b[0;36mfilter_traceback.<locals>.error_handler\u001b[1;34m(*args, **kwargs)\u001b[0m\n\u001b[0;32m     67\u001b[0m     filtered_tb \u001b[39m=\u001b[39m _process_traceback_frames(e\u001b[39m.\u001b[39m__traceback__)\n\u001b[0;32m     68\u001b[0m     \u001b[39m# To get the full stack trace, call:\u001b[39;00m\n\u001b[0;32m     69\u001b[0m     \u001b[39m# `tf.debugging.disable_traceback_filtering()`\u001b[39;00m\n\u001b[1;32m---> 70\u001b[0m     \u001b[39mraise\u001b[39;00m e\u001b[39m.\u001b[39mwith_traceback(filtered_tb) \u001b[39mfrom\u001b[39;00m \u001b[39mNone\u001b[39;00m\n\u001b[0;32m     71\u001b[0m \u001b[39mfinally\u001b[39;00m:\n\u001b[0;32m     72\u001b[0m     \u001b[39mdel\u001b[39;00m filtered_tb\n",
            "File \u001b[1;32mc:\\Users\\karen\\AppData\\Local\\Programs\\Python\\Python311\\Lib\\site-packages\\tensorflow\\python\\framework\\constant_op.py:98\u001b[0m, in \u001b[0;36mconvert_to_eager_tensor\u001b[1;34m(value, ctx, dtype)\u001b[0m\n\u001b[0;32m     96\u001b[0m     dtype \u001b[39m=\u001b[39m dtypes\u001b[39m.\u001b[39mas_dtype(dtype)\u001b[39m.\u001b[39mas_datatype_enum\n\u001b[0;32m     97\u001b[0m ctx\u001b[39m.\u001b[39mensure_initialized()\n\u001b[1;32m---> 98\u001b[0m \u001b[39mreturn\u001b[39;00m ops\u001b[39m.\u001b[39;49mEagerTensor(value, ctx\u001b[39m.\u001b[39;49mdevice_name, dtype)\n",
            "\u001b[1;31mValueError\u001b[0m: Failed to convert a NumPy array to a Tensor (Unsupported object type int)."
          ]
        }
      ],
      "source": [
        "# Calcular las predicciones de ambos modelos en el conjunto de prueba\n",
        "predictions_a = model_a.predict(X_test)\n",
        "predictions_b = model_b.predict([test_user_indices, test_product_indices])\n",
        "\n",
        "# Convertir las predicciones en etiquetas binarias (0 o 1)\n",
        "labels_pred_a = (predictions_a > 0.5).astype(int)\n",
        "labels_pred_b = (predictions_b > 0.5).astype(int)\n",
        "\n",
        "# Calcular métricas completas para ambos modelos\n",
        "report_a = classification_report(y_test, labels_pred_a, target_names=['Clase 0', 'Clase 1'])\n",
        "report_b = classification_report(y_test, labels_pred_b, target_names=['Clase 0', 'Clase 1'])\n",
        "\n",
        "# Calcular la matriz de confusión para ambos modelos\n",
        "conf_matrix_a = confusion_matrix(y_test, labels_pred_a)\n",
        "conf_matrix_b = confusion_matrix(y_test, labels_pred_b)\n",
        "\n",
        "# Imprimir los resultados\n",
        "print(\"Resultados del Modelo sin Embeddings:\")\n",
        "print(report_a)\n",
        "print(\"Matriz de Confusión:\")\n",
        "print(conf_matrix_a)\n",
        "\n",
        "print(\"\\nResultados del Modelo con Embeddings:\")\n",
        "print(report_b)\n",
        "print(\"Matriz de Confusión:\")\n",
        "print(conf_matrix_b)"
      ]
    }
  ],
  "metadata": {
    "colab": {
      "provenance": []
    },
    "kernelspec": {
      "display_name": "Python 3",
      "name": "python3"
    },
    "language_info": {
      "codemirror_mode": {
        "name": "ipython",
        "version": 3
      },
      "file_extension": ".py",
      "mimetype": "text/x-python",
      "name": "python",
      "nbconvert_exporter": "python",
      "pygments_lexer": "ipython3",
      "version": "3.11.3"
    }
  },
  "nbformat": 4,
  "nbformat_minor": 0
}
